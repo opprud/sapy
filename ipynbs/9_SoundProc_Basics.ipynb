{
 "cells": [
  {
   "cell_type": "markdown",
   "metadata": {
    "slideshow": {
     "slide_type": "slide"
    }
   },
   "source": [
    "# Auditory Sound Processing - Part I: Basics <img src='data/images/logo.png' width=50 align='left'> \n",
    "\n",
    "author: Thomas Haslwanter\\\n",
    "date: June-2020"
   ]
  },
  {
   "cell_type": "code",
   "execution_count": 1,
   "metadata": {
    "slideshow": {
     "slide_type": "fragment"
    }
   },
   "outputs": [],
   "source": [
    "# Standard packages\n",
    "%matplotlib inline\n",
    "import numpy as np\n",
    "import matplotlib.pyplot as plt\n",
    "import os\n",
    "\n",
    "# Special imports\n",
    "from scipy.io.wavfile import read"
   ]
  },
  {
   "cell_type": "markdown",
   "metadata": {
    "slideshow": {
     "slide_type": "subslide"
    }
   },
   "source": [
    "In many programming languages there are tools to read in WAV-files (\"Waveform Audio File Format\").\n",
    "\n",
    "WAV files have a strictly defined format:\n",
    "<img src=\"data/images/WAV-chunks.png\">\n",
    "\n",
    "An easy way to access most other sound-types is use the open source program [FFMPEG](http://ffmpeg.org) to convert other sound types to WAV.\n",
    "<img src=\"data/images/SoundFiles.png\" width=500>"
   ]
  },
  {
   "cell_type": "markdown",
   "metadata": {
    "slideshow": {
     "slide_type": "subslide"
    }
   },
   "source": [
    "<img src=\"data/images/piano.jpg\" width=200>"
   ]
  },
  {
   "cell_type": "code",
   "execution_count": 2,
   "metadata": {
    "slideshow": {
     "slide_type": "fragment"
    }
   },
   "outputs": [],
   "source": [
    "audioDir = r'data\\sounds'\n",
    "soundFile = os.path.join(audioDir, 'a1.wav')\n",
    "rate, data = read(soundFile)"
   ]
  },
  {
   "cell_type": "markdown",
   "metadata": {
    "slideshow": {
     "slide_type": "slide"
    }
   },
   "source": [
    "## Information about the sound"
   ]
  },
  {
   "cell_type": "code",
   "execution_count": 3,
   "metadata": {
    "slideshow": {
     "slide_type": "fragment"
    }
   },
   "outputs": [
    {
     "name": "stdout",
     "output_type": "stream",
     "text": [
      "Mono sound\n"
     ]
    }
   ],
   "source": [
    "if len(data.shape)==1:\n",
    "    print('Mono sound')\n",
    "else:\n",
    "    print('Stereo sound')"
   ]
  },
  {
   "cell_type": "code",
   "execution_count": 4,
   "metadata": {
    "slideshow": {
     "slide_type": "fragment"
    }
   },
   "outputs": [
    {
     "data": {
      "text/plain": [
       "dtype('int16')"
      ]
     },
     "execution_count": 4,
     "metadata": {},
     "output_type": "execute_result"
    }
   ],
   "source": [
    "data.dtype"
   ]
  },
  {
   "cell_type": "markdown",
   "metadata": {},
   "source": [
    "### Be careful with \"uint\" data\n",
    "Sound is sometimes stored as unsigned integer."
   ]
  },
  {
   "cell_type": "code",
   "execution_count": 5,
   "metadata": {},
   "outputs": [
    {
     "name": "stdout",
     "output_type": "stream",
     "text": [
      "7\n"
     ]
    }
   ],
   "source": [
    "value = np.uint8(253)\n",
    "print(np.uint8(value + 10))"
   ]
  },
  {
   "cell_type": "code",
   "execution_count": 6,
   "metadata": {
    "slideshow": {
     "slide_type": "fragment"
    }
   },
   "outputs": [
    {
     "name": "stdout",
     "output_type": "stream",
     "text": [
      "Duration of recording: 2.46 sec\n"
     ]
    }
   ],
   "source": [
    "nData = len(data)\n",
    "duration = nData/rate\n",
    "print('Duration of recording: {0:4.2f} sec'.format(duration))"
   ]
  },
  {
   "cell_type": "markdown",
   "metadata": {
    "slideshow": {
     "slide_type": "fragment"
    }
   },
   "source": [
    "### Example of stereo sound\n",
    "Be careful: if you read in stereo-sound, you obtain a matrix, not a vector!"
   ]
  },
  {
   "cell_type": "code",
   "execution_count": 7,
   "metadata": {
    "slideshow": {
     "slide_type": "fragment"
    }
   },
   "outputs": [
    {
     "data": {
      "text/plain": [
       "(230400, 2)"
      ]
     },
     "execution_count": 7,
     "metadata": {},
     "output_type": "execute_result"
    }
   ],
   "source": [
    "soundFile = os.path.join(audioDir, 'tiger.wav')\n",
    "rate, data = read(soundFile)\n",
    "data.shape"
   ]
  },
  {
   "cell_type": "markdown",
   "metadata": {
    "slideshow": {
     "slide_type": "slide"
    }
   },
   "source": [
    "## Play Sound"
   ]
  },
  {
   "cell_type": "markdown",
   "metadata": {
    "slideshow": {
     "slide_type": "fragment"
    }
   },
   "source": [
    "The following code allows you to play sound at the push of a button in this notebook. For a system-independent way to play sound in scripts, I recommend that you use the methods of *Sound* objects from the class *sksound.sounds.Sound* (from [scikit-sound](http://work.thaslwanter.at/sksound/html))."
   ]
  },
  {
   "cell_type": "code",
   "execution_count": 8,
   "metadata": {
    "slideshow": {
     "slide_type": "fragment"
    }
   },
   "outputs": [],
   "source": [
    "from IPython.display import Audio, display\n",
    "\n",
    "def play(x, fr, autoplay=False):\n",
    "    display(Audio(x, rate=fr, autoplay=autoplay))"
   ]
  },
  {
   "cell_type": "code",
   "execution_count": 9,
   "metadata": {
    "slideshow": {
     "slide_type": "fragment"
    }
   },
   "outputs": [
    {
     "data": {
      "text/html": [
       "\n",
       "                <audio  controls=\"controls\" >\n",
       "                    <source src=\"data:audio/wav;base64,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\" type=\"audio/wav\" />\n",
       "                    Your browser does not support the audio element.\n",
       "                </audio>\n",
       "              "
      ],
      "text/plain": [
       "<IPython.lib.display.Audio object>"
      ]
     },
     "metadata": {},
     "output_type": "display_data"
    }
   ],
   "source": [
    "# back to a plain tone:\n",
    "soundFile = os.path.join(audioDir, 'a1.wav')\n",
    "rate, data = read(soundFile)\n",
    "play(data, rate)"
   ]
  },
  {
   "cell_type": "markdown",
   "metadata": {
    "slideshow": {
     "slide_type": "subslide"
    }
   },
   "source": [
    "## Further links to sound processing"
   ]
  },
  {
   "cell_type": "markdown",
   "metadata": {
    "slideshow": {
     "slide_type": "fragment"
    }
   },
   "source": [
    "* [FFMPEG](http://www.ffmpeg.org/) A complete, cross-platform solution to record, convert and stream audio and video. \n",
    "* [scikit-sound](http://work.thaslwanter.at/sksound/html/sounds.html) Class for reading/writing/playing sounds. Uses FFMPEG.\n",
    "* [Pydub](http://pydub.com/) Lets you manipulate audio with a simple and easy high level interface. Requires FFMPEG."
   ]
  },
  {
   "cell_type": "markdown",
   "metadata": {
    "slideshow": {
     "slide_type": "skip"
    }
   },
   "source": [
    "[8_ParameterFitting](8_ParameterFitting.ipynb)<img src=\"data\\images\\Forward_Backward.png\" align='middle'>[9_SoundProc_Fourier](9_SoundProc_Fourier.ipynb)"
   ]
  },
  {
   "cell_type": "code",
   "execution_count": null,
   "metadata": {},
   "outputs": [],
   "source": []
  }
 ],
 "metadata": {
  "celltoolbar": "Slideshow",
  "kernelspec": {
   "display_name": "Python 3",
   "language": "python",
   "name": "python3"
  },
  "language_info": {
   "codemirror_mode": {
    "name": "ipython",
    "version": 3
   },
   "file_extension": ".py",
   "mimetype": "text/x-python",
   "name": "python",
   "nbconvert_exporter": "python",
   "pygments_lexer": "ipython3",
   "version": "3.7.6"
  },
  "livereveal": {
   "scroll": true
  },
  "toc": {
   "base_numbering": 1,
   "nav_menu": {},
   "number_sections": true,
   "sideBar": true,
   "skip_h1_title": false,
   "title_cell": "Table of Contents",
   "title_sidebar": "Contents",
   "toc_cell": false,
   "toc_position": {},
   "toc_section_display": true,
   "toc_window_display": false
  },
  "varInspector": {
   "cols": {
    "lenName": 16,
    "lenType": 16,
    "lenVar": 40
   },
   "kernels_config": {
    "python": {
     "delete_cmd_postfix": "",
     "delete_cmd_prefix": "del ",
     "library": "var_list.py",
     "varRefreshCmd": "print(var_dic_list())"
    },
    "r": {
     "delete_cmd_postfix": ") ",
     "delete_cmd_prefix": "rm(",
     "library": "var_list.r",
     "varRefreshCmd": "cat(var_dic_list()) "
    }
   },
   "types_to_exclude": [
    "module",
    "function",
    "builtin_function_or_method",
    "instance",
    "_Feature"
   ],
   "window_display": false
  }
 },
 "nbformat": 4,
 "nbformat_minor": 4
}
