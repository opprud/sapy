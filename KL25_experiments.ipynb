{
 "cells": [
  {
   "cell_type": "markdown",
   "metadata": {},
   "source": [
    "# Kl 25 FIR filter experiments\n",
    "In this notebook experiments with the KL25 Cortex m0+ CPU and builtin 12 bit DAC and 16 ADC is described.\n",
    "\n",
    "## KL25 ADC\n",
    "The ADC is a 16 bit Sucessive Approximation converter that can be setup in 8/10/12/14/16 bit mode. Conversion clock runs of a prescaled bus clock, derived from the 48MHz CPU clock\n",
    "\n",
    "### Features (from user manual )\n",
    "Features of the ADC module include:\n",
    " * Linear successive approximation algorithm with up to 16-bit resolution\n",
    " * Up to four pairs of differential and 24 single-ended external analog inputs\n",
    " * Output modes:\n",
    " * differential 16-bit, 13-bit, 11-bit, and 9-bit modes\n",
    " * single-ended 16-bit, 12-bit, 10-bit, and 8-bit modes\n",
    " * Output format in 2's complement 16-bit sign extended for differential modes\n",
    " * Output in right-justified unsigned format for single-ended\n",
    " * Single or continuous conversion, that is, automatic return to idle after single  conversion\n",
    "\n",
    "## System design \n",
    "The digital to analog converter **DAC** is a 12 bit converter capable of outputting 0-3.3V.\n",
    "\n",
    "The **ADC** will be initialised in 12 bit mode, to provide identical input and output resolution\n",
    "\n",
    "### Functional blocks\n",
    "![BLOCK DIAGRAM](./img/FIR_KL25.png)\n"
   ]
  },
  {
   "cell_type": "markdown",
   "metadata": {},
   "source": [
    "### Conversion & processing times\n",
    "\n",
    " *  \\$t_{ADC} $  = 3,6$\\mu s$ \n",
    "\n",
    " *  \\$t_{DAC} $  = 1.2$\\mu s$"
   ]
  },
  {
   "cell_type": "markdown",
   "metadata": {},
   "source": [
    "# A boilerplate FIR filter\n",
    "Template code from [http://t-filter.engineerjs.com/]\n",
    "with a bandstop filter attenuating 250-600Hz is shown below"
   ]
  },
  {
   "cell_type": "markdown",
   "metadata": {},
   "source": [
    "```\n",
    "    /*\n",
    "    FIR filter designed with\n",
    "     http://t-filter.appspot.com\n",
    "    sampling frequency: 6000 Hz\n",
    "    fixed point precision: 16 bits\n",
    "\n",
    "    * 0 Hz - 100 Hz\n",
    "      gain = 1\n",
    "      desired ripple = 5 dB\n",
    "      actual ripple = n/a\n",
    "\n",
    "    * 250 Hz - 600 Hz\n",
    "      gain = 0\n",
    "      desired attenuation = -40 dB\n",
    "      actual attenuation = n/a\n",
    "\n",
    "    * 750 Hz - 3000 Hz\n",
    "      gain = 1\n",
    "      desired ripple = 5 dB\n",
    "      actual ripple = n/a\n",
    "    */\n",
    "\n",
    "    #define SAMPLEFILTER_TAP_NUM 43\n",
    "\n",
    "    typedef struct {\n",
    "      int history[SAMPLEFILTER_TAP_NUM];\n",
    "      unsigned int last_index;\n",
    "    } SampleFilter;\n",
    "\n",
    "    void SampleFilter_init(SampleFilter* f);\n",
    "    void SampleFilter_put(SampleFilter* f, int input);\n",
    "    int SampleFilter_get(SampleFilter* f);\n",
    "\n",
    "    #endif\n",
    "```"
   ]
  },
  {
   "cell_type": "markdown",
   "metadata": {},
   "source": [
    "The FIR loop is not optimized for speed, and implemented with plain Multiply Accumulate **MAC** operations"
   ]
  },
  {
   "cell_type": "markdown",
   "metadata": {},
   "source": [
    "```\n",
    "void SampleFilter_init(SampleFilter* f) {\n",
    "  int i;\n",
    "  for(i = 0; i < SAMPLEFILTER_TAP_NUM; ++i)\n",
    "    f->history[i] = 0;\n",
    "  f->last_index = 0;\n",
    "}\n",
    "\n",
    "void SampleFilter_put(SampleFilter* f, int input) {\n",
    "  f->history[f->last_index++] = input;\n",
    "  if(f->last_index == SAMPLEFILTER_TAP_NUM)\n",
    "    f->last_index = 0;\n",
    "}\n",
    "\n",
    "int SampleFilter_get(SampleFilter* f) {\n",
    "  long long acc = 0;\n",
    "  int index = f->last_index, i;\n",
    "  for(i = 0; i < SAMPLEFILTER_TAP_NUM; ++i) {\n",
    "    index = index != 0 ? index-1 : SAMPLEFILTER_TAP_NUM-1;\n",
    "    acc += (long long)f->history[index] * filter_taps[i];\n",
    "  };\n",
    "  return acc >> 16;\n",
    "}\n",
    "```\n",
    "\n",
    "\n"
   ]
  },
  {
   "cell_type": "markdown",
   "metadata": {},
   "source": [
    "### FIR execution time \n",
    "  *  \\$t_{Filter 43} $  = 96$\\mu s$"
   ]
  },
  {
   "cell_type": "code",
   "execution_count": 4,
   "metadata": {},
   "outputs": [
    {
     "data": {
      "text/plain": [
       "9.6e-05"
      ]
     },
     "execution_count": 4,
     "metadata": {},
     "output_type": "execute_result"
    }
   ],
   "source": [
    "t_filter_43 = 96e-6\n",
    "t_filter_43"
   ]
  },
  {
   "cell_type": "markdown",
   "metadata": {},
   "source": [
    "### Optimize with loop unrolling\n",
    "The 43 taps can be unrolled, to avoid branches in the code, and do linear code execution, that may speed up execution"
   ]
  },
  {
   "cell_type": "code",
   "execution_count": null,
   "metadata": {},
   "outputs": [],
   "source": [
    "int SampleFilter_get(SampleFilter* f) {\n",
    "  long long acc = 0;\n",
    "  int index = f->last_index;\n",
    "    index = index != 0 ? index-1 : SAMPLEFILTER_TAP_NUM-1;\n",
    "    acc += (long long)f->history[index] * filter_taps[0];\n",
    "    index = index != 0 ? index-1 : SAMPLEFILTER_TAP_NUM-1;\n",
    "    acc += (long long)f->history[index] * filter_taps[1];\n",
    "    index = index != 0 ? index-1 : SAMPLEFILTER_TAP_NUM-1;\n",
    "    acc += (long long)f->history[index] * filter_taps[2];\n",
    "    index = index != 0 ? index-1 : SAMPLEFILTER_TAP_NUM-1;\n",
    "    acc += (long long)f->history[index] * filter_taps[3];\n",
    "    index = index != 0 ? index-1 : SAMPLEFILTER_TAP_NUM-1;\n",
    "    acc += (long long)f->history[index] * filter_taps[4];\n",
    "    index = index != 0 ? index-1 : SAMPLEFILTER_TAP_NUM-1;\n",
    "    acc += (long long)f->history[index] * filter_taps[5];\n",
    "    index = index != 0 ? index-1 : SAMPLEFILTER_TAP_NUM-1;\n",
    "    acc += (long long)f->history[index] * filter_taps[6];\n",
    "    index = index != 0 ? index-1 : SAMPLEFILTER_TAP_NUM-1;\n",
    "    acc += (long long)f->history[index] * filter_taps[7];\n",
    "    index = index != 0 ? index-1 : SAMPLEFILTER_TAP_NUM-1;\n",
    "    acc += (long long)f->history[index] * filter_taps[8];\n",
    "    index = index != 0 ? index-1 : SAMPLEFILTER_TAP_NUM-1;\n",
    "    acc += (long long)f->history[index] * filter_taps[9];\n",
    "    index = index != 0 ? index-1 : SAMPLEFILTER_TAP_NUM-1;\n",
    "    acc += (long long)f->history[index] * filter_taps[10];\n",
    "    index = index != 0 ? index-1 : SAMPLEFILTER_TAP_NUM-1;\n",
    "    acc += (long long)f->history[index] * filter_taps[11];\n",
    "    index = index != 0 ? index-1 : SAMPLEFILTER_TAP_NUM-1;\n",
    "    acc += (long long)f->history[index] * filter_taps[12];\n",
    "    index = index != 0 ? index-1 : SAMPLEFILTER_TAP_NUM-1;\n",
    "    acc += (long long)f->history[index] * filter_taps[13];\n",
    "    index = index != 0 ? index-1 : SAMPLEFILTER_TAP_NUM-1;\n",
    "    acc += (long long)f->history[index] * filter_taps[14];\n",
    "    index = index != 0 ? index-1 : SAMPLEFILTER_TAP_NUM-1;\n",
    "    acc += (long long)f->history[index] * filter_taps[15];\n",
    "    index = index != 0 ? index-1 : SAMPLEFILTER_TAP_NUM-1;\n",
    "    acc += (long long)f->history[index] * filter_taps[16];\n",
    "    index = index != 0 ? index-1 : SAMPLEFILTER_TAP_NUM-1;\n",
    "    acc += (long long)f->history[index] * filter_taps[17];\n",
    "    index = index != 0 ? index-1 : SAMPLEFILTER_TAP_NUM-1;\n",
    "    acc += (long long)f->history[index] * filter_taps[18];\n",
    "    index = index != 0 ? index-1 : SAMPLEFILTER_TAP_NUM-1;\n",
    "    acc += (long long)f->history[index] * filter_taps[19];\n",
    "    index = index != 0 ? index-1 : SAMPLEFILTER_TAP_NUM-1;\n",
    "    acc += (long long)f->history[index] * filter_taps[20];\n",
    "    index = index != 0 ? index-1 : SAMPLEFILTER_TAP_NUM-1;\n",
    "    acc += (long long)f->history[index] * filter_taps[21];\n",
    "    index = index != 0 ? index-1 : SAMPLEFILTER_TAP_NUM-1;\n",
    "    acc += (long long)f->history[index] * filter_taps[22];\n",
    "    index = index != 0 ? index-1 : SAMPLEFILTER_TAP_NUM-1;\n",
    "    acc += (long long)f->history[index] * filter_taps[23];\n",
    "    index = index != 0 ? index-1 : SAMPLEFILTER_TAP_NUM-1;\n",
    "    acc += (long long)f->history[index] * filter_taps[24];\n",
    "    index = index != 0 ? index-1 : SAMPLEFILTER_TAP_NUM-1;\n",
    "    acc += (long long)f->history[index] * filter_taps[25];\n",
    "    index = index != 0 ? index-1 : SAMPLEFILTER_TAP_NUM-1;\n",
    "    acc += (long long)f->history[index] * filter_taps[26];\n",
    "    index = index != 0 ? index-1 : SAMPLEFILTER_TAP_NUM-1;\n",
    "    acc += (long long)f->history[index] * filter_taps[27];\n",
    "    index = index != 0 ? index-1 : SAMPLEFILTER_TAP_NUM-1;\n",
    "    acc += (long long)f->history[index] * filter_taps[28];\n",
    "    index = index != 0 ? index-1 : SAMPLEFILTER_TAP_NUM-1;\n",
    "    acc += (long long)f->history[index] * filter_taps[29];\n",
    "    index = index != 0 ? index-1 : SAMPLEFILTER_TAP_NUM-1;\n",
    "    acc += (long long)f->history[index] * filter_taps[30];\n",
    "    index = index != 0 ? index-1 : SAMPLEFILTER_TAP_NUM-1;\n",
    "    acc += (long long)f->history[index] * filter_taps[31];\n",
    "    index = index != 0 ? index-1 : SAMPLEFILTER_TAP_NUM-1;\n",
    "    acc += (long long)f->history[index] * filter_taps[32];\n",
    "    index = index != 0 ? index-1 : SAMPLEFILTER_TAP_NUM-1;\n",
    "    acc += (long long)f->history[index] * filter_taps[33];\n",
    "    index = index != 0 ? index-1 : SAMPLEFILTER_TAP_NUM-1;\n",
    "    acc += (long long)f->history[index] * filter_taps[34];\n",
    "    index = index != 0 ? index-1 : SAMPLEFILTER_TAP_NUM-1;\n",
    "    acc += (long long)f->history[index] * filter_taps[35];\n",
    "    index = index != 0 ? index-1 : SAMPLEFILTER_TAP_NUM-1;\n",
    "    acc += (long long)f->history[index] * filter_taps[36];\n",
    "    index = index != 0 ? index-1 : SAMPLEFILTER_TAP_NUM-1;\n",
    "    acc += (long long)f->history[index] * filter_taps[37];\n",
    "    index = index != 0 ? index-1 : SAMPLEFILTER_TAP_NUM-1;\n",
    "    acc += (long long)f->history[index] * filter_taps[38];\n",
    "    index = index != 0 ? index-1 : SAMPLEFILTER_TAP_NUM-1;\n",
    "    acc += (long long)f->history[index] * filter_taps[39];\n",
    "    index = index != 0 ? index-1 : SAMPLEFILTER_TAP_NUM-1;\n",
    "    acc += (long long)f->history[index] * filter_taps[40];\n",
    "    index = index != 0 ? index-1 : SAMPLEFILTER_TAP_NUM-1;\n",
    "    acc += (long long)f->history[index] * filter_taps[41];\n",
    "    index = index != 0 ? index-1 : SAMPLEFILTER_TAP_NUM-1;\n",
    "    acc += (long long)f->history[index] * filter_taps[42];\n",
    "  return acc >> 16;\n",
    "}"
   ]
  },
  {
   "cell_type": "markdown",
   "metadata": {},
   "source": [
    "### FIR execution time wit unrolled filter loop\n",
    "  *  \\$t_{Filter 43 unrolled} $  = 105$\\mu s$\n",
    "  \n",
    "That actually took **longer** time that the looped version"
   ]
  },
  {
   "cell_type": "code",
   "execution_count": null,
   "metadata": {},
   "outputs": [],
   "source": []
  }
 ],
 "metadata": {
  "kernelspec": {
   "display_name": "Python 3",
   "language": "python",
   "name": "python3"
  },
  "language_info": {
   "codemirror_mode": {
    "name": "ipython",
    "version": 3
   },
   "file_extension": ".py",
   "mimetype": "text/x-python",
   "name": "python",
   "nbconvert_exporter": "python",
   "pygments_lexer": "ipython3",
   "version": "3.8.3"
  }
 },
 "nbformat": 4,
 "nbformat_minor": 4
}
